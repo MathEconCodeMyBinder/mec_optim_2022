{
 "cells": [
  {
   "cell_type": "markdown",
   "metadata": {},
   "source": [
    "## <center> Tutorial in Scikit-Learn and TensorFlow</center>\n",
    "#### <center>Antoine Chapel (Sciences Po)</center>"
   ]
  },
  {
   "cell_type": "markdown",
   "metadata": {},
   "source": [
    "## Introduction\n",
    "\n",
    "What is Machine Learning ? \"Machine learning is a field that develops algorithms designed to be applied to datasets, with the main areas of focus being prediction (regression), classification, and clustering or grouping tasks. These tasks are divided into two main branches, supervised and unsupervised ML.\" (Athey 2019).\n",
    " \n",
    "* supervised learning: the model is learning to associate data with labels (classification) or values (regression)\n",
    "* unsupervised learning: the model works on the data only to recognise sub-groups (classification)\n",
    "* We may add reinforcement learning: the model interacts with an environment and determines the optimal policy (for the connection with dynamic programming, check Bertsekas http://www.mit.edu/~dimitrib/RLbook.html)\n",
    "\n",
    "The use of machine learning in economics is not always natural: econometricians are concerned with causal inference, which is something ML was not built to do. ML however brings economics a set of tools that can be used either as an intermediary step (when one needs to classify observations before conducting regressions), or as a central method, in particular when the goal of the paper is to provide predictions. "
   ]
  },
  {
   "cell_type": "markdown",
   "metadata": {},
   "source": [
    "### Applications\n",
    "\n",
    "For example, Björkegren and Grissen (2019), attempt to predict individual credit risk based on mobile phone usage. Example where machine learning would be used as an intermediary step: you want to assess the impact of an agricultural policy on the crop choice by farmers. Starting from a dataset of satellite crop images, you can classify the fields using image recognition, and then identify the treatment effect using traditional econometric methods. Image recognition can also be used for urban economics using satellite images.\n",
    "\n",
    "Otherwise, in policymaking, the prediction aspect may be important. For example, you may want to install wind turbines in areas where the wind turbine project will not generate too much backlash. We will conduct such analysis at the end of the notebook."
   ]
  },
  {
   "cell_type": "markdown",
   "metadata": {},
   "source": [
    "Here, we will see two packages, Scikit-Learn and Tensorflow 2, which can be used for machine learnings applications. We will briefly review the general setup for adapting data to a machine learning project, and present some methods, in particular Ridge, Lasso, Elasticnet, and Neural networks, for regression and classification. I will also present PCA, a method allowing dimensionality reduction.\n",
    "\n",
    "Applications will be done on MNIST (the standard toy dataset for deep learning applications), a dataset on the Beijing housing market, and a dataset on French \"communes\" and wind turbines."
   ]
  },
  {
   "cell_type": "markdown",
   "metadata": {},
   "source": [
    "### References:\n",
    "\n",
    "The Scikit-Learn documentation:\n",
    "\n",
    "* https://scikit-learn.org/stable/index.html\n",
    "\n",
    "A review of machine learning applications in economics:\n",
    "* Machine Learning Methods That Economists Should Know About, Athey & Imbens, 2019, Annual Review of Economics, Vol. 11:685-725\n",
    "\n",
    "\n",
    "Two textbooks on machine learning applications (not too much theory)\n",
    "* Hands-On Machine Learning with Scikit-Learn, Keras, and TensorFlow, 2nd Edition, A. Géron, 2019, O'Reilly Media, Inc.\n",
    "* Machine Learning for Economics and Finance in TensorFlow 2: Deep Learning Models for Research and Industry, I. Hull, 2020, Apress, 1st ed.\n",
    "\n",
    "\n",
    "Additional: More theoretical resources:\n",
    "\n",
    "* Foundations of Machine Learning, Mohri et al., MIT Press, Second Edition, 2018\n",
    "* Deep Learning, Goodfellow et al, 2016, MIT Press, http://www.deeplearningbook.org"
   ]
  },
  {
   "cell_type": "code",
   "execution_count": 1,
   "metadata": {},
   "outputs": [],
   "source": [
    "import numpy as np\n",
    "import pandas as pd\n",
    "import matplotlib as mpl\n",
    "import matplotlib.pyplot as plt\n",
    "\n",
    "import sklearn\n",
    "from sklearn.preprocessing import StandardScaler\n",
    "from sklearn.neural_network import MLPRegressor\n",
    "from sklearn.neural_network import MLPClassifier\n",
    "from sklearn.metrics import confusion_matrix, accuracy_score, r2_score\n",
    "from sklearn.linear_model import SGDClassifier\n",
    "from sklearn import linear_model\n",
    "from sklearn.model_selection import train_test_split\n",
    "\n",
    "\n",
    "import tensorflow as tf\n",
    "from tensorflow import keras\n",
    "from tensorflow.keras import layers\n",
    "\n",
    "from math import *"
   ]
  },
  {
   "cell_type": "code",
   "execution_count": 2,
   "metadata": {},
   "outputs": [],
   "source": [
    "import warnings\n",
    "warnings.filterwarnings(\"ignore\")"
   ]
  },
  {
   "cell_type": "code",
   "execution_count": 3,
   "metadata": {},
   "outputs": [],
   "source": [
    "plt.rcParams[\"figure.figsize\"] = (5,5)"
   ]
  },
  {
   "cell_type": "markdown",
   "metadata": {},
   "source": [
    "#### Motivation: MNIST\n",
    "\n",
    "To begin with, we will solve a number classification problem. The MNIST dataset contains input of hand-written numbers, and the output is a vector containing the \"actual\" number that was written. We will train a model on a subset of the input, and then test it. The strength of scikit learn is that we can simply import the method and implement it immediately."
   ]
  },
  {
   "cell_type": "code",
   "execution_count": 4,
   "metadata": {},
   "outputs": [],
   "source": [
    "from sklearn.datasets import fetch_openml\n",
    "mnist = fetch_openml('mnist_784', version=1)"
   ]
  },
  {
   "cell_type": "code",
   "execution_count": 5,
   "metadata": {},
   "outputs": [],
   "source": [
    "X, y = mnist['data'].to_numpy(), mnist['target'].to_numpy().astype(int)"
   ]
  },
  {
   "cell_type": "code",
   "execution_count": 6,
   "metadata": {},
   "outputs": [
    {
     "data": {
      "image/png": "[encoded data removed]",
      "text/plain": [
       "<Figure size 432x288 with 1 Axes>"
      ]
     },
     "metadata": {
      "needs_background": "light"
     },
     "output_type": "display_data"
    }
   ],
   "source": [
    "%matplotlib inline\n",
    "num = X[13, :].reshape(28, 28)\n",
    "plt.imshow(num, cmap=\"binary\")\n",
    "plt.show()"
   ]
  },
  {
   "cell_type": "markdown",
   "metadata": {},
   "source": [
    "The MNIST dataset is to machine/deep learning what the auto-mpg stata dataset is to econometrics. We will start from here, and then move to more econometric frameworks."
   ]
  },
  {
   "cell_type": "code",
   "execution_count": 8,
   "metadata": {},
   "outputs": [],
   "source": [
    "#Step 1: Data splitting, usually train/test, sometimes train/validation/test\n",
    "X_train, X_test, y_train, y_test = train_test_split(X, y, test_size=0.3, random_state=42)"
   ]
  },
  {
   "cell_type": "code",
   "execution_count": 9,
   "metadata": {},
   "outputs": [
    {
     "data": {
      "text/plain": [
       "SGDClassifier(random_state=42)"
      ]
     },
     "execution_count": 9,
     "metadata": {},
     "output_type": "execute_result"
    }
   ],
   "source": [
    "#Step 2: Model building and fitting\n",
    "sgd_class = SGDClassifier(random_state=42)\n",
    "sgd_class.fit(X_train, y_train)"
   ]
  },
  {
   "cell_type": "code",
   "execution_count": 10,
   "metadata": {},
   "outputs": [],
   "source": [
    "#Step 3: out of sample prediction\n",
    "y_predict = sgd_class.predict(X_test)"
   ]
  },
  {
   "cell_type": "code",
   "execution_count": 11,
   "metadata": {},
   "outputs": [
    {
     "data": {
      "text/plain": [
       "<matplotlib.image.AxesImage at 0x2bdd5642408>"
      ]
     },
     "execution_count": 11,
     "metadata": {},
     "output_type": "execute_result"
    },
    {
     "data": {
      "image/png": "[encoded data removed]",
      "text/plain": [
       "<Figure size 288x288 with 1 Axes>"
      ]
     },
     "metadata": {
      "needs_background": "light"
     },
     "output_type": "display_data"
    }
   ],
   "source": [
    "#Step 4: Testing. Depending on the task, find the right test (here the task is multilabel classification)\n",
    "confusion_mnist = confusion_matrix(y_predict, y_test)\n",
    "plt.matshow(confusion_mnist, cmap = plt.cm.gray)"
   ]
  },
  {
   "cell_type": "code",
   "execution_count": 12,
   "metadata": {},
   "outputs": [
    {
     "data": {
      "text/plain": [
       "0.8661904761904762"
      ]
     },
     "execution_count": 12,
     "metadata": {},
     "output_type": "execute_result"
    }
   ],
   "source": [
    "accuracy_score(y_predict, y_test)"
   ]
  },
  {
   "cell_type": "markdown",
   "metadata": {},
   "source": [
    "The stochastic classifier is already quite good. We see on the confusion matrix that 7 are sometimes mistaken for 9. Now let us check if we can do better with a neural network built with Keras."
   ]
  },
  {
   "cell_type": "code",
   "execution_count": 13,
   "metadata": {},
   "outputs": [],
   "source": [
    "#Model training\n",
    "model_mnist = keras.models.Sequential()\n",
    "model_mnist.add(keras.layers.Dense(200, activation=\"relu\"))\n",
    "model_mnist.add(keras.layers.Dense(200, activation=\"relu\"))\n",
    "model_mnist.add(keras.layers.Dense(200, activation=\"relu\"))\n",
    "model_mnist.add(keras.layers.Dense(200, activation=\"relu\"))\n",
    "model_mnist.add(keras.layers.Dense(10, activation=\"softmax\"))\n",
    "model_mnist.compile(loss=\"sparse_categorical_crossentropy\", optimizer=\"adam\", metrics=[\"accuracy\"])"
   ]
  },
  {
   "cell_type": "code",
   "execution_count": 14,
   "metadata": {
    "scrolled": true
   },
   "outputs": [
    {
     "name": "stdout",
     "output_type": "stream",
     "text": [
      "Epoch 1/10\n",
      "392/392 [==============================] - 1s 3ms/step - loss: 1.0022 - accuracy: 0.8616 - val_loss: 0.3226 - val_accuracy: 0.9165\n",
      "Epoch 2/10\n",
      "392/392 [==============================] - 1s 3ms/step - loss: 0.1995 - accuracy: 0.9438 - val_loss: 0.2504 - val_accuracy: 0.9323\n",
      "Epoch 3/10\n",
      "392/392 [==============================] - 1s 3ms/step - loss: 0.1375 - accuracy: 0.9592 - val_loss: 0.2258 - val_accuracy: 0.9430\n",
      "Epoch 4/10\n",
      "392/392 [==============================] - 1s 3ms/step - loss: 0.1095 - accuracy: 0.9672 - val_loss: 0.2272 - val_accuracy: 0.9417\n",
      "Epoch 5/10\n",
      "392/392 [==============================] - 1s 3ms/step - loss: 0.0956 - accuracy: 0.9706 - val_loss: 0.2098 - val_accuracy: 0.9482\n",
      "Epoch 6/10\n",
      "392/392 [==============================] - 1s 3ms/step - loss: 0.0852 - accuracy: 0.9744 - val_loss: 0.1580 - val_accuracy: 0.9576\n",
      "Epoch 7/10\n",
      "392/392 [==============================] - 1s 3ms/step - loss: 0.0797 - accuracy: 0.9762 - val_loss: 0.1874 - val_accuracy: 0.9566\n",
      "Epoch 8/10\n",
      "392/392 [==============================] - 1s 3ms/step - loss: 0.0735 - accuracy: 0.9786 - val_loss: 0.1845 - val_accuracy: 0.9537\n",
      "Epoch 9/10\n",
      "392/392 [==============================] - 1s 3ms/step - loss: 0.0665 - accuracy: 0.9799 - val_loss: 0.1826 - val_accuracy: 0.9584\n",
      "Epoch 10/10\n",
      "392/392 [==============================] - 1s 3ms/step - loss: 0.0692 - accuracy: 0.9794 - val_loss: 0.1635 - val_accuracy: 0.9606\n"
     ]
    },
    {
     "data": {
      "text/plain": [
       "<tensorflow.python.keras.callbacks.History at 0x2bdd5663a48>"
      ]
     },
     "execution_count": 14,
     "metadata": {},
     "output_type": "execute_result"
    }
   ],
   "source": [
    "#Model fitting\n",
    "model_mnist.fit(X_train, y_train, batch_size=100, epochs=10, validation_split=0.2)"
   ]
  },
  {
   "cell_type": "code",
   "execution_count": 15,
   "metadata": {},
   "outputs": [
    {
     "data": {
      "text/plain": [
       "<matplotlib.image.AxesImage at 0x2be7bb10dc8>"
      ]
     },
     "execution_count": 15,
     "metadata": {},
     "output_type": "execute_result"
    },
    {
     "data": {
      "image/png": "[encoded data removed]",
      "text/plain": [
       "<Figure size 288x288 with 1 Axes>"
      ]
     },
     "metadata": {
      "needs_background": "light"
     },
     "output_type": "display_data"
    }
   ],
   "source": [
    "confusion_mnist_nn = confusion_matrix(model_mnist.predict_classes(X_test), y_test)\n",
    "plt.matshow(confusion_mnist_nn, cmap = plt.cm.gray)"
   ]
  },
  {
   "cell_type": "code",
   "execution_count": 16,
   "metadata": {},
   "outputs": [
    {
     "data": {
      "text/plain": [
       "0.9613333333333334"
      ]
     },
     "execution_count": 16,
     "metadata": {},
     "output_type": "execute_result"
    }
   ],
   "source": [
    "#Out-of-sample prediction:\n",
    "accuracy_score(model_mnist.predict_classes(X_test), y_test)"
   ]
  },
  {
   "cell_type": "markdown",
   "metadata": {},
   "source": [
    "The power of neural networks/perceptrons for image classification like the one above is impressive: with a simple, 4-layers-perceptron, we get 95% accuracy out of the sample, the confusion matrix shows that classification is nearly perfect.\n",
    "\n",
    "The validation_split parameter allows us to check for overfitting. If we see that accuracy in the sample in rising to near-perfect level, but accuracy in the validation subsample is decreasing, it means that the model is simply learning by heart/overfitting in the training sample, and will not properly generalise."
   ]
  },
  {
   "cell_type": "markdown",
   "metadata": {},
   "source": [
    "### Implementation of Scikit Learn"
   ]
  },
  {
   "cell_type": "markdown",
   "metadata": {},
   "source": [
    "For now, let's go over some simple regression designs: OLS, Ridge, Lasso and ElasticNet. These tools focus on estimating the parameter of a Linear Regression equation. The functional form is thus the following, for each observation $i$.\n",
    "\n",
    "$$y_i = \\beta_0 + \\beta_1 x_{i1} + \\beta_2 x_{i2} + ... + \\beta_j x_{ij} + \\epsilon_i$$\n",
    "\n",
    "Where __$\\beta$__ = ($\\beta_0$, ..., $\\beta_j$) are the parameters we want to estimate, and **($x_i$; $y_i$)** is the data for individual **i**.\n",
    "\n",
    "In matrix form, it can be rewritten __\\begin{align}\n",
    "y = X \\beta + \\epsilon\n",
    "\\end{align}__\n"
   ]
  },
  {
   "attachments": {
    "image.png": {
     "image/png": "[encoded data removed]"
    }
   },
   "cell_type": "markdown",
   "metadata": {},
   "source": [
    "### The simplest method: OLS\n",
    "\n",
    "We all know here about OLS: it can be implemented very simply with ScikitLearn, and we will use it as a benchmark to which subsequent methods will be compared.\n",
    "\n",
    "![image.png](attachment:image.png)"
   ]
  },
  {
   "cell_type": "markdown",
   "metadata": {},
   "source": [
    "#### The example at hand: the Beijing Housing market\n",
    "\n",
    "To present the use of scikit learn methods, we will use a dataset on the housing market in Beijing. The original dataset can be found here: https://www.kaggle.com/ruiqurm/lianjia. We are using a cleaned and pre-processed version of the data, to avoid formatting issues."
   ]
  },
  {
   "cell_type": "code",
   "execution_count": 17,
   "metadata": {},
   "outputs": [],
   "source": [
    "beijing_data = pd.read_csv(r\"C:\\Users\\antoi\\Desktop\\5A\\Vacation\\Sem2\\data_beijing.csv\")"
   ]
  },
  {
   "cell_type": "code",
   "execution_count": 19,
   "metadata": {},
   "outputs": [
    {
     "data": {
      "text/html": [
       "<div>\n",
       "<style scoped>\n",
       "    .dataframe tbody tr th:only-of-type {\n",
       "        vertical-align: middle;\n",
       "    }\n",
       "\n",
       "    .dataframe tbody tr th {\n",
       "        vertical-align: top;\n",
       "    }\n",
       "\n",
       "    .dataframe thead th {\n",
       "        text-align: right;\n",
       "    }\n",
       "</style>\n",
       "<table border=\"1\" class=\"dataframe\">\n",
       "  <thead>\n",
       "    <tr style=\"text-align: right;\">\n",
       "      <th></th>\n",
       "      <th>id</th>\n",
       "      <th>lng</th>\n",
       "      <th>lat</th>\n",
       "      <th>followers</th>\n",
       "      <th>totalprice</th>\n",
       "      <th>price</th>\n",
       "      <th>square</th>\n",
       "      <th>kitchen</th>\n",
       "      <th>renovationcondition</th>\n",
       "      <th>buildingstructure</th>\n",
       "      <th>...</th>\n",
       "      <th>commu_avg</th>\n",
       "      <th>dist_from_cent</th>\n",
       "      <th>logprice</th>\n",
       "      <th>logdist_from_cent</th>\n",
       "      <th>logfollowers</th>\n",
       "      <th>logcommu_avg</th>\n",
       "      <th>logladder</th>\n",
       "      <th>logsquare</th>\n",
       "      <th>logdom</th>\n",
       "      <th>log_age</th>\n",
       "    </tr>\n",
       "  </thead>\n",
       "  <tbody>\n",
       "    <tr>\n",
       "      <th>0</th>\n",
       "      <td>101084782030</td>\n",
       "      <td>116.47549</td>\n",
       "      <td>40.019520</td>\n",
       "      <td>106</td>\n",
       "      <td>415.0</td>\n",
       "      <td>31680</td>\n",
       "      <td>131.00</td>\n",
       "      <td>1</td>\n",
       "      <td>3</td>\n",
       "      <td>6</td>\n",
       "      <td>...</td>\n",
       "      <td>56021</td>\n",
       "      <td>0.104175</td>\n",
       "      <td>10.363441</td>\n",
       "      <td>-2.261679</td>\n",
       "      <td>4.672829</td>\n",
       "      <td>10.933482</td>\n",
       "      <td>-1.527858</td>\n",
       "      <td>4.875197</td>\n",
       "      <td>7.288928</td>\n",
       "      <td>2.564949</td>\n",
       "    </tr>\n",
       "    <tr>\n",
       "      <th>1</th>\n",
       "      <td>101086012217</td>\n",
       "      <td>116.45392</td>\n",
       "      <td>39.881535</td>\n",
       "      <td>126</td>\n",
       "      <td>575.0</td>\n",
       "      <td>43436</td>\n",
       "      <td>132.38</td>\n",
       "      <td>1</td>\n",
       "      <td>4</td>\n",
       "      <td>6</td>\n",
       "      <td>...</td>\n",
       "      <td>71539</td>\n",
       "      <td>0.064503</td>\n",
       "      <td>10.679044</td>\n",
       "      <td>-2.741044</td>\n",
       "      <td>4.844187</td>\n",
       "      <td>11.177998</td>\n",
       "      <td>-0.404965</td>\n",
       "      <td>4.885676</td>\n",
       "      <td>6.805723</td>\n",
       "      <td>2.639057</td>\n",
       "    </tr>\n",
       "    <tr>\n",
       "      <th>2</th>\n",
       "      <td>101086041636</td>\n",
       "      <td>116.56198</td>\n",
       "      <td>39.877144</td>\n",
       "      <td>48</td>\n",
       "      <td>1030.0</td>\n",
       "      <td>52021</td>\n",
       "      <td>198.00</td>\n",
       "      <td>1</td>\n",
       "      <td>3</td>\n",
       "      <td>6</td>\n",
       "      <td>...</td>\n",
       "      <td>48160</td>\n",
       "      <td>0.156425</td>\n",
       "      <td>10.859403</td>\n",
       "      <td>-1.855177</td>\n",
       "      <td>3.891820</td>\n",
       "      <td>10.782284</td>\n",
       "      <td>-0.693147</td>\n",
       "      <td>5.288267</td>\n",
       "      <td>7.147559</td>\n",
       "      <td>2.564949</td>\n",
       "    </tr>\n",
       "    <tr>\n",
       "      <th>3</th>\n",
       "      <td>101086406841</td>\n",
       "      <td>116.43801</td>\n",
       "      <td>40.076115</td>\n",
       "      <td>138</td>\n",
       "      <td>297.5</td>\n",
       "      <td>22202</td>\n",
       "      <td>134.00</td>\n",
       "      <td>1</td>\n",
       "      <td>1</td>\n",
       "      <td>6</td>\n",
       "      <td>...</td>\n",
       "      <td>51238</td>\n",
       "      <td>0.143917</td>\n",
       "      <td>10.007937</td>\n",
       "      <td>-1.938518</td>\n",
       "      <td>4.934474</td>\n",
       "      <td>10.844236</td>\n",
       "      <td>-1.298283</td>\n",
       "      <td>4.897840</td>\n",
       "      <td>6.872128</td>\n",
       "      <td>2.302585</td>\n",
       "    </tr>\n",
       "    <tr>\n",
       "      <th>4</th>\n",
       "      <td>101086920653</td>\n",
       "      <td>116.42839</td>\n",
       "      <td>39.886230</td>\n",
       "      <td>286</td>\n",
       "      <td>392.0</td>\n",
       "      <td>48396</td>\n",
       "      <td>81.00</td>\n",
       "      <td>1</td>\n",
       "      <td>2</td>\n",
       "      <td>2</td>\n",
       "      <td>...</td>\n",
       "      <td>62588</td>\n",
       "      <td>0.049165</td>\n",
       "      <td>10.787172</td>\n",
       "      <td>-3.012577</td>\n",
       "      <td>5.659482</td>\n",
       "      <td>11.044329</td>\n",
       "      <td>-1.099613</td>\n",
       "      <td>4.394449</td>\n",
       "      <td>6.831954</td>\n",
       "      <td>4.060443</td>\n",
       "    </tr>\n",
       "  </tbody>\n",
       "</table>\n",
       "<p>5 rows × 31 columns</p>\n",
       "</div>"
      ],
      "text/plain": [
       "             id        lng        lat  followers  totalprice  price  square  \\\n",
       "0  101084782030  116.47549  40.019520        106       415.0  31680  131.00   \n",
       "1  101086012217  116.45392  39.881535        126       575.0  43436  132.38   \n",
       "2  101086041636  116.56198  39.877144         48      1030.0  52021  198.00   \n",
       "3  101086406841  116.43801  40.076115        138       297.5  22202  134.00   \n",
       "4  101086920653  116.42839  39.886230        286       392.0  48396   81.00   \n",
       "\n",
       "   kitchen  renovationcondition  buildingstructure  ...  commu_avg  \\\n",
       "0        1                    3                  6  ...      56021   \n",
       "1        1                    4                  6  ...      71539   \n",
       "2        1                    3                  6  ...      48160   \n",
       "3        1                    1                  6  ...      51238   \n",
       "4        1                    2                  2  ...      62588   \n",
       "\n",
       "   dist_from_cent   logprice  logdist_from_cent  logfollowers  logcommu_avg  \\\n",
       "0        0.104175  10.363441          -2.261679      4.672829     10.933482   \n",
       "1        0.064503  10.679044          -2.741044      4.844187     11.177998   \n",
       "2        0.156425  10.859403          -1.855177      3.891820     10.782284   \n",
       "3        0.143917  10.007937          -1.938518      4.934474     10.844236   \n",
       "4        0.049165  10.787172          -3.012577      5.659482     11.044329   \n",
       "\n",
       "   logladder  logsquare    logdom   log_age  \n",
       "0  -1.527858   4.875197  7.288928  2.564949  \n",
       "1  -0.404965   4.885676  6.805723  2.639057  \n",
       "2  -0.693147   5.288267  7.147559  2.564949  \n",
       "3  -1.298283   4.897840  6.872128  2.302585  \n",
       "4  -1.099613   4.394449  6.831954  4.060443  \n",
       "\n",
       "[5 rows x 31 columns]"
      ]
     },
     "execution_count": 19,
     "metadata": {},
     "output_type": "execute_result"
    }
   ],
   "source": [
    "beijing_data.head()"
   ]
  },
  {
   "cell_type": "code",
   "execution_count": 20,
   "metadata": {},
   "outputs": [
    {
     "name": "stdout",
     "output_type": "stream",
     "text": [
      "Index(['id', 'lng', 'lat', 'followers', 'totalprice', 'price', 'square',\n",
      "       'kitchen', 'renovationcondition', 'buildingstructure', 'ladderratio',\n",
      "       'elevator', 'fiveyearsproperty', 'subway', 'district', 'dom_int',\n",
      "       'livingroom_int', 'drawingroom_int', 'bathroom_int', 'buildingtype_int',\n",
      "       'construction_int', 'commu_avg', 'dist_from_cent', 'logprice',\n",
      "       'logdist_from_cent', 'logfollowers', 'logcommu_avg', 'logladder',\n",
      "       'logsquare', 'logdom', 'log_age'],\n",
      "      dtype='object')\n"
     ]
    }
   ],
   "source": [
    "varnames = beijing_data.columns\n",
    "print(varnames)"
   ]
  },
  {
   "cell_type": "code",
   "execution_count": 21,
   "metadata": {},
   "outputs": [],
   "source": [
    "y_b = beijing_data['logprice'].to_numpy().reshape(-1, 1)\n",
    "X_b_short = beijing_data['dist_from_cent'].to_numpy().reshape(-1, 1)"
   ]
  },
  {
   "cell_type": "markdown",
   "metadata": {},
   "source": [
    "A good practice is to divide the dataset into a training subset and a testing subset. Scikitlearn does that automatically with us with **train_test_split** and we can also do stratified sampling if we want to ensure the representativity of our subsets."
   ]
  },
  {
   "cell_type": "code",
   "execution_count": 22,
   "metadata": {},
   "outputs": [],
   "source": [
    "X_train_b, X_test_b, y_train_b, y_test_b = train_test_split(X_b_short, y_b, test_size=0.3, random_state=42)"
   ]
  },
  {
   "cell_type": "code",
   "execution_count": 23,
   "metadata": {},
   "outputs": [],
   "source": [
    "reg = linear_model.LinearRegression()\n",
    "reg.fit(X_train_b, y_train_b)\n",
    "y_pred_s = reg.predict(X_train_b) #in-sample prediction"
   ]
  },
  {
   "cell_type": "code",
   "execution_count": 24,
   "metadata": {},
   "outputs": [
    {
     "data": {
      "image/png": "[encoded data removed]",
      "text/plain": [
       "<Figure size 432x288 with 1 Axes>"
      ]
     },
     "metadata": {
      "needs_background": "light"
     },
     "output_type": "display_data"
    }
   ],
   "source": [
    "plt.scatter(X_train_b, y_train_b, s=0.1)\n",
    "plt.plot(X_train_b, y_pred_s, 'r')\n",
    "plt.show()"
   ]
  },
  {
   "cell_type": "markdown",
   "metadata": {},
   "source": [
    "We immediately see that a linear approximation gives us some idea about the housing market structure (the furthest you are from the center, the cheaper housing). However, it is clearly not perfect, as there is a lot of unexplained variance. To measure the accuracy of the model, we can use the $R^2$ directly from sklearn as well."
   ]
  },
  {
   "cell_type": "code",
   "execution_count": 25,
   "metadata": {},
   "outputs": [
    {
     "data": {
      "text/plain": [
       "0.29842841519034147"
      ]
     },
     "execution_count": 25,
     "metadata": {},
     "output_type": "execute_result"
    }
   ],
   "source": [
    "y_pred_out = reg.predict(X_test_b) #out-sample prediction\n",
    "r2_score(y_test_b, y_pred_out)"
   ]
  },
  {
   "cell_type": "code",
   "execution_count": 26,
   "metadata": {},
   "outputs": [],
   "source": [
    "features = ['lng', 'lat', 'kitchen', 'renovationcondition', 'buildingstructure', 'ladderratio', 'elevator', 'fiveyearsproperty', 'subway', 'district', 'livingroom_int', 'drawingroom_int', 'bathroom_int', 'construction_int', 'commu_avg', 'logdist_from_cent', 'logfollowers', 'logcommu_avg', 'logladder', 'logdom', 'log_age']\n",
    "X_b_long = beijing_data[features].to_numpy()"
   ]
  },
  {
   "cell_type": "markdown",
   "metadata": {},
   "source": [
    "First, let's re-do an OLS regression with multiple predictors. We write it as a function."
   ]
  },
  {
   "cell_type": "code",
   "execution_count": 27,
   "metadata": {},
   "outputs": [],
   "source": [
    "def ols_reg(y, X):\n",
    "    X_train, X_test, y_train, y_test = train_test_split(X, y, test_size=0.3, random_state=42)\n",
    "    reg_ols = linear_model.LinearRegression()\n",
    "    reg_ols.fit(X_train, y_train)\n",
    "    y_predict = reg_ols.predict(X_test)\n",
    "    return reg_ols.coef_, reg_ols.coef_.shape, r2_score(y_test, y_predict) "
   ]
  },
  {
   "cell_type": "code",
   "execution_count": 28,
   "metadata": {},
   "outputs": [],
   "source": [
    "coef_ols, size_ols, r2_ols = ols_reg(y_b, X_b_long)"
   ]
  },
  {
   "cell_type": "code",
   "execution_count": 29,
   "metadata": {},
   "outputs": [
    {
     "name": "stdout",
     "output_type": "stream",
     "text": [
      "[[-1.06188976e-01  1.38460555e-02  1.45959111e-01  4.20352936e-02\n",
      "   1.20085318e-03 -5.16990867e-09 -2.23851540e-03 -3.23175175e-02\n",
      "   6.10203712e-03  1.17730704e-03 -2.77443371e-02 -2.16688498e-02\n",
      "  -2.63103019e-02 -2.62604515e-03 -9.98761173e-07 -2.94957081e-02\n",
      "   1.38484820e-02  9.97146888e-01  2.47312449e-02  9.49736702e-02\n",
      "  -1.97911799e-02]]\n",
      "(1, 21)\n",
      "0.7447412224088903\n"
     ]
    }
   ],
   "source": [
    "print(coef_ols)\n",
    "print(size_ols)\n",
    "print(r2_ols)"
   ]
  },
  {
   "cell_type": "markdown",
   "metadata": {},
   "source": [
    "So, we have our 21 coefficients, and a satisfying $R^2$ out of the sample of 74.4%. In traditional econometrics methods, we would try to run t-tests to assess whether the variables are significant, worry about possible endogeneity issues... This is easy in Stata or R, but a bit tedious in Python. So, if we want to reduce the number of coefficients and make the model a bit more interpretable, we should use regularised regressions, such as Ridge, Lasso, and Elasticnet."
   ]
  },
  {
   "cell_type": "markdown",
   "metadata": {},
   "source": [
    "### Linear models\n",
    "\n",
    "The goal of these methods is to improve the efficiency of our predictions, by keeping only the most relevant coefficients. Instead of using 21 features in our data, we may reduce the size of the problem. In OLS, there is by definition no penalisation, thus we solve, given $k$ features:\n",
    "\n",
    "\\begin{align*}\n",
    "    \\min_{\\beta} ||X\\beta - y||_2^2\n",
    "\\end{align*}\n",
    "\n",
    "#### Ridge:\n",
    "\n",
    "\\begin{align*}\n",
    "    \\min_{\\beta} ||X\\beta - y||_2^2 + \\alpha ||\\beta||_2^2\n",
    "\\end{align*}\n",
    "\n",
    "Here, $||\\cdot||_2^2$ denotes the l2-norm, which develops as $\\sum_{j=1}^k \\beta_j^2$\n",
    "\n",
    "Ridge can be used to make the coefficients robust to collinearity (variables that are linear combinations of other variables). In the dataset at hand, it will not be useful. $\\alpha$ is the regularisation parameter. Equal to 0, we find back OLS. The larger it is, the most the coefficients will be robust to collinearity.\n",
    "\n",
    "\n",
    "#### LASSO (Least Absolute Shrinkage and Selection Operator):\n",
    "\n",
    "\\begin{align*}\n",
    "    \\min_{\\beta} ||X \\beta - y||_2^2 + \\alpha ||\\beta||_1\n",
    "\\end{align*}\n",
    "\n",
    "LASSO penalises the coefficients that are close to 0, and thus leads to a restricted set of explanatory variables. Here, $||\\cdot||_1$ denotes the l1-norm, which develops as $\\sum_{j=1}^k |\\beta_j|$. $\\alpha$ is the regularisation parameter, but this time, using the l1-norm instead of the l2-norm allows us to bring coefficients that are close to 0 to 0 exactly. Doing so, we can reduce the number of coefficients. Obviously, it will be done at the loss of some precision of the model, which will be reflected by the $R^2$.\n",
    "\n",
    "#### Elastic-Net\n",
    "\n",
    "\\begin{align*}\n",
    "    \\min_{\\beta} ||X \\beta - y||_2^2 + \\alpha \\rho ||\\beta||_1 + \\frac{\\alpha (1 - \\rho)}{2} ||\\beta||_2^2\n",
    "\\end{align*}\n",
    "\n",
    "As we can see, Elastic-Net allows us to use a linear combination of l1-norm and l2-norm penalisation. It is using 2 parameters, $\\alpha$ and $\\rho$, which are respectively the regularisation parameter and the share of l1-norm penalisation in the process.\n",
    "\n"
   ]
  },
  {
   "cell_type": "code",
   "execution_count": 30,
   "metadata": {},
   "outputs": [],
   "source": [
    "def linear_reg(y, X, method, α=0.1, l1_r=0.5):\n",
    "    \n",
    "    X_train, X_test, y_train, y_test = train_test_split(X, y, test_size=0.3, random_state=42)\n",
    "    \n",
    "    if method==\"OLS\":\n",
    "        lin_reg = linear_model.LinearRegression()\n",
    "    elif method==\"Ridge\":\n",
    "        lin_reg = linear_model.Ridge(alpha=α)\n",
    "    elif method==\"Lasso\":\n",
    "        lin_reg = linear_model.Lasso(alpha=α)\n",
    "    elif method==\"ElasticNet\":\n",
    "        lin_reg = linear_model.ElasticNet(alpha=α, l1_ratio = l1_r)\n",
    "    \n",
    "    lin_reg.fit(X_train, y_train)\n",
    "    y_predict = lin_reg.predict(X_test)\n",
    "    \n",
    "    coef_list = lin_reg.coef_[lin_reg.coef_ != 0]\n",
    "    coef_ind = np.argwhere(lin_reg.coef_ != 0)\n",
    "    coef_names = np.array(features)[[coef_ind]]\n",
    "    \n",
    "    return coef_list, len(coef_list), r2_score(y_test, y_predict), coef_ind"
   ]
  },
  {
   "cell_type": "code",
   "execution_count": 31,
   "metadata": {},
   "outputs": [
    {
     "name": "stdout",
     "output_type": "stream",
     "text": [
      "[-1.06188976e-01  1.38460555e-02  1.45959111e-01  4.20352936e-02\n",
      "  1.20085318e-03 -5.16990867e-09 -2.23851540e-03 -3.23175175e-02\n",
      "  6.10203712e-03  1.17730704e-03 -2.77443371e-02 -2.16688498e-02\n",
      " -2.63103019e-02 -2.62604515e-03 -9.98761173e-07 -2.94957081e-02\n",
      "  1.38484820e-02  9.97146888e-01  2.47312449e-02  9.49736702e-02\n",
      " -1.97911799e-02]\n",
      "21\n",
      "0.7447412224088903\n"
     ]
    }
   ],
   "source": [
    "regression_ols = linear_reg(y_b, X_b_long, method=\"OLS\")\n",
    "coefs_ols, nbcoefs_ols, r2_ols = regression_ols[0], regression_ols[1], regression_ols[2]\n",
    "\n",
    "print(coefs_ols)\n",
    "print(nbcoefs_ols)\n",
    "print(r2_ols)"
   ]
  },
  {
   "cell_type": "code",
   "execution_count": 34,
   "metadata": {},
   "outputs": [
    {
     "data": {
      "text/plain": [
       "array(['lng', 'lat', 'kitchen', 'renovationcondition',\n",
       "       'buildingstructure', 'ladderratio', 'elevator',\n",
       "       'fiveyearsproperty', 'subway', 'district', 'livingroom_int',\n",
       "       'drawingroom_int', 'bathroom_int', 'construction_int', 'commu_avg',\n",
       "       'logdist_from_cent', 'logfollowers', 'logcommu_avg', 'logladder',\n",
       "       'logdom', 'log_age'], dtype='<U19')"
      ]
     },
     "execution_count": 34,
     "metadata": {},
     "output_type": "execute_result"
    }
   ],
   "source": [
    "np.array(features)[[regression_ols[3]]][:, 1]"
   ]
  },
  {
   "cell_type": "code",
   "execution_count": 32,
   "metadata": {},
   "outputs": [
    {
     "name": "stdout",
     "output_type": "stream",
     "text": [
      "[ 7.61869951e-03  4.74007355e-08 -1.24118333e-03  1.44728336e-05\n",
      "  7.28613849e-03  8.84109890e-02]\n",
      "6\n",
      "0.700160192657924\n"
     ]
    }
   ],
   "source": [
    "regression_elastic = linear_reg(y_b, X_b_long, method=\"ElasticNet\")\n",
    "coefs_elastic, nbcoefs_elastic, r2_elastic = regression_elastic[0], regression_elastic[1], regression_elastic[2]\n",
    "\n",
    "print(coefs_elastic)\n",
    "print(nbcoefs_elastic)\n",
    "print(r2_elastic)"
   ]
  },
  {
   "cell_type": "code",
   "execution_count": 45,
   "metadata": {},
   "outputs": [
    {
     "data": {
      "text/plain": [
       "array([['renovationcondition'],\n",
       "       ['ladderratio'],\n",
       "       ['construction_int'],\n",
       "       ['commu_avg'],\n",
       "       ['logfollowers'],\n",
       "       ['logdom']], dtype='<U19')"
      ]
     },
     "execution_count": 45,
     "metadata": {},
     "output_type": "execute_result"
    }
   ],
   "source": [
    "np.array(features)[[regression_elastic[3]]]"
   ]
  },
  {
   "cell_type": "markdown",
   "metadata": {},
   "source": [
    "ElasticNet regression shows us that we can obtain a $R^2$ of 70% with a simpler linear model of only 6 variables instead of 21"
   ]
  },
  {
   "cell_type": "markdown",
   "metadata": {},
   "source": [
    "Now let's move away from linear models and try neural networks. If you have lived in a cave for the last 8 years or so you may not have heard of it. It has proved remarkably efficient for detecting nonlinear patterns, and do image recognition.\n",
    "\n",
    "There is a neural network available in scikitlearn, that we will implement here, but Google has developed a much more advanced tool, TensorFlow, which will give us more control. TensorFlow can be a bit complex to learn and use, but the high-level API Keras makes it easy to build (simple) neural nets.\n",
    "\n",
    "Tensorflow can be used to do a lot more than deep learning (optimisation, regression tasks...), so I refer the interested student to the resource \"Machine Learning for Economics and Finance in TensorFlow 2\" (Isaiah Hull), in which the author does nearly everything (OLS, PCA...) in TensorFlow only."
   ]
  },
  {
   "cell_type": "markdown",
   "metadata": {},
   "source": [
    "### Neural Networks: the Multi-Layer Perceptron\n",
    "\n",
    "I will not go into the inner workings of a neural network here. For details, go to the book \"Deep Learning\", by Ian Goodfellow et al. First, it is recommended that we scale the data, and scikitlearn has a tool for this. You may check, by training the model on un-scaled data, that the model is performing clearly worse."
   ]
  },
  {
   "cell_type": "code",
   "execution_count": 35,
   "metadata": {},
   "outputs": [],
   "source": [
    "X_train_b, X_test_b, y_train_b, y_test_b = train_test_split(X_b_long, y_b, test_size=0.3, random_state=42)\n",
    "\n",
    "scaler_b = StandardScaler()\n",
    "scaler_b.fit(X_train_b)\n",
    "X_train_bs = scaler_b.transform(X_train_b)\n",
    "X_test_bs = scaler_b.transform(X_test_b)"
   ]
  },
  {
   "cell_type": "code",
   "execution_count": 36,
   "metadata": {},
   "outputs": [
    {
     "data": {
      "text/plain": [
       "MLPRegressor(batch_size=1000, early_stopping=True, max_iter=50)"
      ]
     },
     "execution_count": 36,
     "metadata": {},
     "output_type": "execute_result"
    }
   ],
   "source": [
    "nn_b = MLPRegressor(max_iter=50, activation='relu', early_stopping=True, batch_size=1000)\n",
    "nn_b.fit(X_train_bs, y_train_b)"
   ]
  },
  {
   "cell_type": "code",
   "execution_count": 37,
   "metadata": {},
   "outputs": [
    {
     "data": {
      "text/plain": [
       "0.7688491706287766"
      ]
     },
     "execution_count": 37,
     "metadata": {},
     "output_type": "execute_result"
    }
   ],
   "source": [
    "#If our goal was to predict the housing price, we now have a good predictor that clearly outperforms OLS.\n",
    "#We may gain some additional precision points by tweaking the parameters.\n",
    "y_pred_o_nn = nn_b.predict(X_test_bs)\n",
    "r2_score(y_test_b, y_pred_o_nn)"
   ]
  },
  {
   "cell_type": "code",
   "execution_count": 38,
   "metadata": {},
   "outputs": [],
   "source": [
    "#This increase in precision is done at the expense of interpretability\n",
    "coefs_nn = nn_b.coefs_"
   ]
  },
  {
   "cell_type": "code",
   "execution_count": 39,
   "metadata": {},
   "outputs": [
    {
     "data": {
      "text/plain": [
       "(21, 100)"
      ]
     },
     "execution_count": 39,
     "metadata": {},
     "output_type": "execute_result"
    }
   ],
   "source": [
    "coefs_nn[0].shape"
   ]
  },
  {
   "cell_type": "markdown",
   "metadata": {},
   "source": [
    "Given that there are 100 layers (default) in our neural network, and we have 21 variables, there are 2100 weights in our model that are difficult to interpret. Now let us build a neural network with TensorFlow and Keras. Here, we will build a simple neural network with the simplest way to use the Keras API: Sequential."
   ]
  },
  {
   "cell_type": "code",
   "execution_count": 45,
   "metadata": {},
   "outputs": [
    {
     "name": "stdout",
     "output_type": "stream",
     "text": [
      "Epoch 1/10\n",
      "852/852 [==============================] - 1s 942us/step - loss: 4.0401 - val_loss: 1.5720\n",
      "Epoch 2/10\n",
      "852/852 [==============================] - 1s 869us/step - loss: 0.1275 - val_loss: 0.8669\n",
      "Epoch 3/10\n",
      "852/852 [==============================] - 1s 947us/step - loss: 0.0739 - val_loss: 0.6493\n",
      "Epoch 4/10\n",
      "852/852 [==============================] - 1s 970us/step - loss: 0.0538 - val_loss: 0.5004\n",
      "Epoch 5/10\n",
      "852/852 [==============================] - 1s 891us/step - loss: 0.0470 - val_loss: 0.4379\n",
      "Epoch 6/10\n",
      "852/852 [==============================] - 1s 1ms/step - loss: 0.0440 - val_loss: 0.4146\n",
      "Epoch 7/10\n",
      "852/852 [==============================] - 1s 873us/step - loss: 0.0430 - val_loss: 0.4104\n",
      "Epoch 8/10\n",
      "852/852 [==============================] - 1s 867us/step - loss: 0.0416 - val_loss: 0.3724\n",
      "Epoch 9/10\n",
      "852/852 [==============================] - 1s 880us/step - loss: 0.0410 - val_loss: 0.3581\n",
      "Epoch 10/10\n",
      "852/852 [==============================] - 1s 855us/step - loss: 0.0403 - val_loss: 0.3557\n"
     ]
    }
   ],
   "source": [
    "model_beijing_nn = tf.keras.Sequential()\n",
    "model_beijing_nn.add(tf.keras.layers.Dense(50, activation='relu'))\n",
    "model_beijing_nn.add(tf.keras.layers.Dense(50, activation='relu'))\n",
    "model_beijing_nn.add(tf.keras.layers.Dense(50, activation='relu'))\n",
    "model_beijing_nn.add(tf.keras.layers.Dense(1))\n",
    "model_beijing_nn.compile(optimizer='adam', loss='mse')\n",
    "\n",
    "history_beijing = model_beijing_nn.fit(X_train_bs, y_train_b, batch_size=100, epochs=10, validation_split=0.2)"
   ]
  },
  {
   "cell_type": "code",
   "execution_count": 46,
   "metadata": {},
   "outputs": [],
   "source": [
    "y_pred_bs = model_beijing_nn.predict(X_test_bs)"
   ]
  },
  {
   "cell_type": "code",
   "execution_count": 47,
   "metadata": {},
   "outputs": [
    {
     "data": {
      "text/plain": [
       "0.8053272335323859"
      ]
     },
     "execution_count": 47,
     "metadata": {},
     "output_type": "execute_result"
    }
   ],
   "source": [
    "r2_score(y_test_b, y_pred_bs)"
   ]
  },
  {
   "cell_type": "code",
   "execution_count": 48,
   "metadata": {},
   "outputs": [
    {
     "data": {
      "image/png": "[encoded data removed]",
      "text/plain": [
       "<Figure size 576x360 with 1 Axes>"
      ]
     },
     "metadata": {
      "needs_background": "light"
     },
     "output_type": "display_data"
    }
   ],
   "source": [
    "pd.DataFrame(history_beijing.history).plot(figsize=(8, 5))\n",
    "plt.grid(True)\n",
    "plt.show()"
   ]
  },
  {
   "cell_type": "markdown",
   "metadata": {},
   "source": [
    "We may gain some precision by adding layers to the network, and adding data to the model. We should be careful however to avoid overfitting: if we add too many layers, the model risks becoming \"too good\" at predicting housing prices within the sample, but being unable to make any meaningful prediction out of the sample."
   ]
  },
  {
   "cell_type": "markdown",
   "metadata": {},
   "source": [
    "### Dimensionality Reduction: PCA"
   ]
  },
  {
   "cell_type": "markdown",
   "metadata": {},
   "source": [
    "In computational sciences, the \"curse of dimensionality\" is often faced. We have so much data available that, geometrically, the dataset becomes an object with too many dimensions to be exploitable. A possible solution is PCA: Principal components analysis. A bit like regularisation, we need to accept to lose some of the noise of the data in order to make the data more \"friendly\" to the model. I won't go into the details of PCA, but briefly, it consists in projecting the data orthogonally on several consecutive \"axis\", which are the principal components. The goal of PCA is to obtain a dataset which still allows classification/regression, but relies on a smaller number of variables. Here, we will look at what this means in practice."
   ]
  },
  {
   "cell_type": "code",
   "execution_count": 49,
   "metadata": {},
   "outputs": [],
   "source": [
    "from sklearn.decomposition import PCA\n",
    "\n",
    "#Two options: first, you can specify the number of variables you want to end up with. Here, we want to plot it, so 2 is good.\n",
    "pca1 = PCA(n_components=2)\n",
    "X_reduced_bs = pca1.fit_transform(X_train_bs)"
   ]
  },
  {
   "cell_type": "code",
   "execution_count": 50,
   "metadata": {},
   "outputs": [
    {
     "data": {
      "image/png": "[encoded data removed]",
      "text/plain": [
       "<Figure size 432x288 with 1 Axes>"
      ]
     },
     "metadata": {
      "needs_background": "light"
     },
     "output_type": "display_data"
    },
    {
     "name": "stdout",
     "output_type": "stream",
     "text": [
      "[0.17455936 0.12837277]\n"
     ]
    }
   ],
   "source": [
    "plt.scatter(X_reduced_bs[:, 0], X_reduced_bs[:, 1])\n",
    "plt.show()\n",
    "print(pca1.explained_variance_ratio_)"
   ]
  },
  {
   "cell_type": "markdown",
   "metadata": {},
   "source": [
    "Issue: we can see with \"explained_variance_ratio_\" that the two first principal components only explain 0.17 + 0.13 = 30% of the data variance. We would rather aim at something like 90% or 95%. To do so:"
   ]
  },
  {
   "cell_type": "code",
   "execution_count": 51,
   "metadata": {},
   "outputs": [
    {
     "name": "stdout",
     "output_type": "stream",
     "text": [
      "(106474, 14)\n",
      "0.921170098566794\n"
     ]
    },
    {
     "data": {
      "image/png": "[encoded data removed]",
      "text/plain": [
       "<Figure size 432x288 with 1 Axes>"
      ]
     },
     "metadata": {},
     "output_type": "display_data"
    }
   ],
   "source": [
    "pca2 = PCA(n_components = 0.9)\n",
    "\n",
    "\n",
    "X_reduced_bs2 = pca2.fit_transform(X_train_bs)\n",
    "print(X_reduced_bs2.shape)\n",
    "print(np.sum(pca2.explained_variance_ratio_))\n",
    "plt.pie(pca2.explained_variance_ratio_)\n",
    "plt.show()"
   ]
  },
  {
   "cell_type": "markdown",
   "metadata": {},
   "source": [
    "New issue: we still have 14 variables, which is not a major improvement compared to the original 21. Here, any computer is able to handle the 21 variables, but if this problem arises in a problem with thousands of variables, one needs to try alternative techniques for dimensionality reduction (see Géron textbook)."
   ]
  },
  {
   "cell_type": "code",
   "execution_count": 52,
   "metadata": {},
   "outputs": [],
   "source": [
    "ncomp = 144\n",
    "\n",
    "\n",
    "X, y = mnist['data'].to_numpy(), mnist['target'].to_numpy().astype(int)\n",
    "\n",
    "X_train, X_test, y_train, y_test = train_test_split(X, y, test_size=0.3, random_state=42)\n",
    "pca_mnist = PCA(n_components = ncomp)\n",
    "X_train_reduced = pca_mnist.fit_transform(X_train)\n",
    "X_test_reduced = pca_mnist.transform(X_test)"
   ]
  },
  {
   "cell_type": "code",
   "execution_count": 53,
   "metadata": {},
   "outputs": [
    {
     "name": "stdout",
     "output_type": "stream",
     "text": [
      "(49000, 784)\n",
      "(49000, 144)\n"
     ]
    }
   ],
   "source": [
    "print(X_train.shape)\n",
    "print(X_train_reduced.shape)"
   ]
  },
  {
   "cell_type": "code",
   "execution_count": 54,
   "metadata": {},
   "outputs": [
    {
     "data": {
      "text/plain": [
       "0.9453781049008794"
      ]
     },
     "execution_count": 54,
     "metadata": {},
     "output_type": "execute_result"
    }
   ],
   "source": [
    "np.sum(pca_mnist.explained_variance_ratio_)"
   ]
  },
  {
   "cell_type": "code",
   "execution_count": 55,
   "metadata": {},
   "outputs": [
    {
     "data": {
      "image/png": "[encoded data removed]",
      "text/plain": [
       "<Figure size 432x288 with 1 Axes>"
      ]
     },
     "metadata": {
      "needs_background": "light"
     },
     "output_type": "display_data"
    }
   ],
   "source": [
    "num = X_train[3, :].reshape(28, 28)\n",
    "plt.imshow(num, cmap=\"binary\")\n",
    "plt.show()"
   ]
  },
  {
   "cell_type": "code",
   "execution_count": 56,
   "metadata": {},
   "outputs": [
    {
     "data": {
      "image/png": "[encoded data removed]",
      "text/plain": [
       "<Figure size 432x288 with 1 Axes>"
      ]
     },
     "metadata": {
      "needs_background": "light"
     },
     "output_type": "display_data"
    }
   ],
   "source": [
    "num = X_train_reduced[3, :].reshape(int(sqrt(ncomp)), int(sqrt(ncomp)))\n",
    "plt.imshow(num, cmap=\"binary\")\n",
    "plt.show()"
   ]
  },
  {
   "cell_type": "code",
   "execution_count": 57,
   "metadata": {},
   "outputs": [],
   "source": [
    "X_train_inversed = pca_mnist.inverse_transform(X_train_reduced)"
   ]
  },
  {
   "cell_type": "code",
   "execution_count": 58,
   "metadata": {},
   "outputs": [
    {
     "data": {
      "image/png": "[encoded data removed]",
      "text/plain": [
       "<Figure size 432x288 with 1 Axes>"
      ]
     },
     "metadata": {
      "needs_background": "light"
     },
     "output_type": "display_data"
    }
   ],
   "source": [
    "num = X_train_inversed[3, :].reshape(28, 28)\n",
    "plt.imshow(num, cmap=\"binary\")\n",
    "plt.show()"
   ]
  },
  {
   "cell_type": "markdown",
   "metadata": {},
   "source": [
    "Although the image is a bit noisy, we did not lose much data. Feel free to experiment with over values for compression, using one or the other method described earlier."
   ]
  },
  {
   "cell_type": "markdown",
   "metadata": {},
   "source": [
    "## An application: predicting to voting effect of wind turbines"
   ]
  },
  {
   "cell_type": "markdown",
   "metadata": {},
   "source": [
    "Let us now move to one last prediction exercise: the effect of wind turbines on voting"
   ]
  },
  {
   "cell_type": "code",
   "execution_count": 59,
   "metadata": {},
   "outputs": [],
   "source": [
    "dwf = pd.read_csv(r\"C:\\Users\\antoi\\Desktop\\5A\\Vacation\\Sem2\\dwf.csv\")"
   ]
  },
  {
   "cell_type": "code",
   "execution_count": 60,
   "metadata": {
    "scrolled": true
   },
   "outputs": [
    {
     "data": {
      "text/html": [
       "<div>\n",
       "<style scoped>\n",
       "    .dataframe tbody tr th:only-of-type {\n",
       "        vertical-align: middle;\n",
       "    }\n",
       "\n",
       "    .dataframe tbody tr th {\n",
       "        vertical-align: top;\n",
       "    }\n",
       "\n",
       "    .dataframe thead th {\n",
       "        text-align: right;\n",
       "    }\n",
       "</style>\n",
       "<table border=\"1\" class=\"dataframe\">\n",
       "  <thead>\n",
       "    <tr style=\"text-align: right;\">\n",
       "      <th></th>\n",
       "      <th>depind</th>\n",
       "      <th>comind</th>\n",
       "      <th>comcode</th>\n",
       "      <th>votedif</th>\n",
       "      <th>comlat</th>\n",
       "      <th>comlong</th>\n",
       "      <th>nbpharmaciesetparfumerie</th>\n",
       "      <th>dynamiqueentrepreneuriale</th>\n",
       "      <th>dynamiqueentrepreneurialeservice</th>\n",
       "      <th>synergiemédicalecommune</th>\n",
       "      <th>...</th>\n",
       "      <th>synmedical_dum</th>\n",
       "      <th>segcapfiscale_dum</th>\n",
       "      <th>segdynentre_dum</th>\n",
       "      <th>dynsetc_dum</th>\n",
       "      <th>comlat2</th>\n",
       "      <th>comlat3</th>\n",
       "      <th>comlat4</th>\n",
       "      <th>comlong2</th>\n",
       "      <th>comlong3</th>\n",
       "      <th>comlong4</th>\n",
       "    </tr>\n",
       "  </thead>\n",
       "  <tbody>\n",
       "    <tr>\n",
       "      <th>0</th>\n",
       "      <td>1</td>\n",
       "      <td>1</td>\n",
       "      <td>1001</td>\n",
       "      <td>10.45</td>\n",
       "      <td>46.153427</td>\n",
       "      <td>4.926114</td>\n",
       "      <td>0</td>\n",
       "      <td>57</td>\n",
       "      <td>23</td>\n",
       "      <td>114</td>\n",
       "      <td>...</td>\n",
       "      <td>0</td>\n",
       "      <td>0</td>\n",
       "      <td>1</td>\n",
       "      <td>1</td>\n",
       "      <td>2130.1389</td>\n",
       "      <td>98313.211</td>\n",
       "      <td>4537491.5</td>\n",
       "      <td>24.266596</td>\n",
       "      <td>119.540010</td>\n",
       "      <td>588.867610</td>\n",
       "    </tr>\n",
       "    <tr>\n",
       "      <th>1</th>\n",
       "      <td>1</td>\n",
       "      <td>2</td>\n",
       "      <td>1002</td>\n",
       "      <td>6.51</td>\n",
       "      <td>46.009190</td>\n",
       "      <td>5.428017</td>\n",
       "      <td>0</td>\n",
       "      <td>45</td>\n",
       "      <td>4</td>\n",
       "      <td>143</td>\n",
       "      <td>...</td>\n",
       "      <td>2</td>\n",
       "      <td>0</td>\n",
       "      <td>1</td>\n",
       "      <td>1</td>\n",
       "      <td>2116.8455</td>\n",
       "      <td>97394.344</td>\n",
       "      <td>4481035.0</td>\n",
       "      <td>29.463369</td>\n",
       "      <td>159.927670</td>\n",
       "      <td>868.090150</td>\n",
       "    </tr>\n",
       "    <tr>\n",
       "      <th>2</th>\n",
       "      <td>1</td>\n",
       "      <td>4</td>\n",
       "      <td>1004</td>\n",
       "      <td>4.18</td>\n",
       "      <td>45.960846</td>\n",
       "      <td>5.372926</td>\n",
       "      <td>0</td>\n",
       "      <td>634</td>\n",
       "      <td>828</td>\n",
       "      <td>366</td>\n",
       "      <td>...</td>\n",
       "      <td>2</td>\n",
       "      <td>0</td>\n",
       "      <td>0</td>\n",
       "      <td>2</td>\n",
       "      <td>2112.3994</td>\n",
       "      <td>97087.664</td>\n",
       "      <td>4462231.0</td>\n",
       "      <td>28.868332</td>\n",
       "      <td>155.107410</td>\n",
       "      <td>833.380550</td>\n",
       "    </tr>\n",
       "    <tr>\n",
       "      <th>3</th>\n",
       "      <td>1</td>\n",
       "      <td>5</td>\n",
       "      <td>1005</td>\n",
       "      <td>7.78</td>\n",
       "      <td>45.996181</td>\n",
       "      <td>4.912273</td>\n",
       "      <td>0</td>\n",
       "      <td>113</td>\n",
       "      <td>62</td>\n",
       "      <td>132</td>\n",
       "      <td>...</td>\n",
       "      <td>2</td>\n",
       "      <td>0</td>\n",
       "      <td>2</td>\n",
       "      <td>1</td>\n",
       "      <td>2115.6487</td>\n",
       "      <td>97311.766</td>\n",
       "      <td>4475969.5</td>\n",
       "      <td>24.130421</td>\n",
       "      <td>118.535200</td>\n",
       "      <td>582.277220</td>\n",
       "    </tr>\n",
       "    <tr>\n",
       "      <th>4</th>\n",
       "      <td>1</td>\n",
       "      <td>6</td>\n",
       "      <td>1006</td>\n",
       "      <td>5.00</td>\n",
       "      <td>45.749500</td>\n",
       "      <td>5.594320</td>\n",
       "      <td>0</td>\n",
       "      <td>42</td>\n",
       "      <td>1</td>\n",
       "      <td>121</td>\n",
       "      <td>...</td>\n",
       "      <td>2</td>\n",
       "      <td>0</td>\n",
       "      <td>1</td>\n",
       "      <td>1</td>\n",
       "      <td>2093.0168</td>\n",
       "      <td>95754.469</td>\n",
       "      <td>4380719.0</td>\n",
       "      <td>31.296419</td>\n",
       "      <td>175.082200</td>\n",
       "      <td>979.465880</td>\n",
       "    </tr>\n",
       "    <tr>\n",
       "      <th>...</th>\n",
       "      <td>...</td>\n",
       "      <td>...</td>\n",
       "      <td>...</td>\n",
       "      <td>...</td>\n",
       "      <td>...</td>\n",
       "      <td>...</td>\n",
       "      <td>...</td>\n",
       "      <td>...</td>\n",
       "      <td>...</td>\n",
       "      <td>...</td>\n",
       "      <td>...</td>\n",
       "      <td>...</td>\n",
       "      <td>...</td>\n",
       "      <td>...</td>\n",
       "      <td>...</td>\n",
       "      <td>...</td>\n",
       "      <td>...</td>\n",
       "      <td>...</td>\n",
       "      <td>...</td>\n",
       "      <td>...</td>\n",
       "      <td>...</td>\n",
       "    </tr>\n",
       "    <tr>\n",
       "      <th>34439</th>\n",
       "      <td>95</td>\n",
       "      <td>676</td>\n",
       "      <td>95676</td>\n",
       "      <td>2.09</td>\n",
       "      <td>49.085899</td>\n",
       "      <td>1.730396</td>\n",
       "      <td>0</td>\n",
       "      <td>151</td>\n",
       "      <td>12</td>\n",
       "      <td>265</td>\n",
       "      <td>...</td>\n",
       "      <td>2</td>\n",
       "      <td>1</td>\n",
       "      <td>0</td>\n",
       "      <td>1</td>\n",
       "      <td>2409.4255</td>\n",
       "      <td>118268.820</td>\n",
       "      <td>5805331.5</td>\n",
       "      <td>2.994271</td>\n",
       "      <td>5.181276</td>\n",
       "      <td>8.965660</td>\n",
       "    </tr>\n",
       "    <tr>\n",
       "      <th>34440</th>\n",
       "      <td>95</td>\n",
       "      <td>678</td>\n",
       "      <td>95678</td>\n",
       "      <td>8.84</td>\n",
       "      <td>49.070290</td>\n",
       "      <td>2.239509</td>\n",
       "      <td>0</td>\n",
       "      <td>162</td>\n",
       "      <td>31</td>\n",
       "      <td>266</td>\n",
       "      <td>...</td>\n",
       "      <td>2</td>\n",
       "      <td>1</td>\n",
       "      <td>0</td>\n",
       "      <td>1</td>\n",
       "      <td>2407.8933</td>\n",
       "      <td>118156.020</td>\n",
       "      <td>5797950.5</td>\n",
       "      <td>5.015399</td>\n",
       "      <td>11.232029</td>\n",
       "      <td>25.154226</td>\n",
       "    </tr>\n",
       "    <tr>\n",
       "      <th>34441</th>\n",
       "      <td>95</td>\n",
       "      <td>680</td>\n",
       "      <td>95680</td>\n",
       "      <td>-0.41</td>\n",
       "      <td>49.008450</td>\n",
       "      <td>2.403856</td>\n",
       "      <td>0</td>\n",
       "      <td>710</td>\n",
       "      <td>655</td>\n",
       "      <td>471</td>\n",
       "      <td>...</td>\n",
       "      <td>2</td>\n",
       "      <td>1</td>\n",
       "      <td>0</td>\n",
       "      <td>2</td>\n",
       "      <td>2401.8281</td>\n",
       "      <td>117709.880</td>\n",
       "      <td>5768778.5</td>\n",
       "      <td>5.778524</td>\n",
       "      <td>13.890739</td>\n",
       "      <td>33.391338</td>\n",
       "    </tr>\n",
       "    <tr>\n",
       "      <th>34442</th>\n",
       "      <td>95</td>\n",
       "      <td>682</td>\n",
       "      <td>95682</td>\n",
       "      <td>10.91</td>\n",
       "      <td>49.074310</td>\n",
       "      <td>2.386890</td>\n",
       "      <td>0</td>\n",
       "      <td>136</td>\n",
       "      <td>10</td>\n",
       "      <td>260</td>\n",
       "      <td>...</td>\n",
       "      <td>2</td>\n",
       "      <td>1</td>\n",
       "      <td>0</td>\n",
       "      <td>1</td>\n",
       "      <td>2408.2878</td>\n",
       "      <td>118185.070</td>\n",
       "      <td>5799851.0</td>\n",
       "      <td>5.697242</td>\n",
       "      <td>13.598689</td>\n",
       "      <td>32.458572</td>\n",
       "    </tr>\n",
       "    <tr>\n",
       "      <th>34443</th>\n",
       "      <td>95</td>\n",
       "      <td>690</td>\n",
       "      <td>95690</td>\n",
       "      <td>9.49</td>\n",
       "      <td>49.095821</td>\n",
       "      <td>1.825029</td>\n",
       "      <td>0</td>\n",
       "      <td>141</td>\n",
       "      <td>15</td>\n",
       "      <td>250</td>\n",
       "      <td>...</td>\n",
       "      <td>2</td>\n",
       "      <td>1</td>\n",
       "      <td>0</td>\n",
       "      <td>1</td>\n",
       "      <td>2410.3997</td>\n",
       "      <td>118340.550</td>\n",
       "      <td>5810026.5</td>\n",
       "      <td>3.330730</td>\n",
       "      <td>6.078678</td>\n",
       "      <td>11.093762</td>\n",
       "    </tr>\n",
       "  </tbody>\n",
       "</table>\n",
       "<p>34444 rows × 112 columns</p>\n",
       "</div>"
      ],
      "text/plain": [
       "       depind  comind  comcode  votedif     comlat   comlong  \\\n",
       "0           1       1     1001    10.45  46.153427  4.926114   \n",
       "1           1       2     1002     6.51  46.009190  5.428017   \n",
       "2           1       4     1004     4.18  45.960846  5.372926   \n",
       "3           1       5     1005     7.78  45.996181  4.912273   \n",
       "4           1       6     1006     5.00  45.749500  5.594320   \n",
       "...       ...     ...      ...      ...        ...       ...   \n",
       "34439      95     676    95676     2.09  49.085899  1.730396   \n",
       "34440      95     678    95678     8.84  49.070290  2.239509   \n",
       "34441      95     680    95680    -0.41  49.008450  2.403856   \n",
       "34442      95     682    95682    10.91  49.074310  2.386890   \n",
       "34443      95     690    95690     9.49  49.095821  1.825029   \n",
       "\n",
       "       nbpharmaciesetparfumerie  dynamiqueentrepreneuriale  \\\n",
       "0                             0                         57   \n",
       "1                             0                         45   \n",
       "2                             0                        634   \n",
       "3                             0                        113   \n",
       "4                             0                         42   \n",
       "...                         ...                        ...   \n",
       "34439                         0                        151   \n",
       "34440                         0                        162   \n",
       "34441                         0                        710   \n",
       "34442                         0                        136   \n",
       "34443                         0                        141   \n",
       "\n",
       "       dynamiqueentrepreneurialeservice  synergiemédicalecommune  ...  \\\n",
       "0                                    23                      114  ...   \n",
       "1                                     4                      143  ...   \n",
       "2                                   828                      366  ...   \n",
       "3                                    62                      132  ...   \n",
       "4                                     1                      121  ...   \n",
       "...                                 ...                      ...  ...   \n",
       "34439                                12                      265  ...   \n",
       "34440                                31                      266  ...   \n",
       "34441                               655                      471  ...   \n",
       "34442                                10                      260  ...   \n",
       "34443                                15                      250  ...   \n",
       "\n",
       "       synmedical_dum  segcapfiscale_dum  segdynentre_dum  dynsetc_dum  \\\n",
       "0                   0                  0                1            1   \n",
       "1                   2                  0                1            1   \n",
       "2                   2                  0                0            2   \n",
       "3                   2                  0                2            1   \n",
       "4                   2                  0                1            1   \n",
       "...               ...                ...              ...          ...   \n",
       "34439               2                  1                0            1   \n",
       "34440               2                  1                0            1   \n",
       "34441               2                  1                0            2   \n",
       "34442               2                  1                0            1   \n",
       "34443               2                  1                0            1   \n",
       "\n",
       "         comlat2     comlat3    comlat4   comlong2    comlong3    comlong4  \n",
       "0      2130.1389   98313.211  4537491.5  24.266596  119.540010  588.867610  \n",
       "1      2116.8455   97394.344  4481035.0  29.463369  159.927670  868.090150  \n",
       "2      2112.3994   97087.664  4462231.0  28.868332  155.107410  833.380550  \n",
       "3      2115.6487   97311.766  4475969.5  24.130421  118.535200  582.277220  \n",
       "4      2093.0168   95754.469  4380719.0  31.296419  175.082200  979.465880  \n",
       "...          ...         ...        ...        ...         ...         ...  \n",
       "34439  2409.4255  118268.820  5805331.5   2.994271    5.181276    8.965660  \n",
       "34440  2407.8933  118156.020  5797950.5   5.015399   11.232029   25.154226  \n",
       "34441  2401.8281  117709.880  5768778.5   5.778524   13.890739   33.391338  \n",
       "34442  2408.2878  118185.070  5799851.0   5.697242   13.598689   32.458572  \n",
       "34443  2410.3997  118340.550  5810026.5   3.330730    6.078678   11.093762  \n",
       "\n",
       "[34444 rows x 112 columns]"
      ]
     },
     "execution_count": 60,
     "metadata": {},
     "output_type": "execute_result"
    }
   ],
   "source": [
    "dwf"
   ]
  },
  {
   "cell_type": "code",
   "execution_count": 66,
   "metadata": {},
   "outputs": [],
   "source": [
    "y = dwf['votedif']\n",
    "X = dwf.loc[:, dwf.columns != 'votedif']"
   ]
  },
  {
   "cell_type": "code",
   "execution_count": 67,
   "metadata": {},
   "outputs": [
    {
     "data": {
      "text/plain": [
       "(34444, 111)"
      ]
     },
     "execution_count": 67,
     "metadata": {},
     "output_type": "execute_result"
    }
   ],
   "source": [
    "X.shape"
   ]
  },
  {
   "cell_type": "markdown",
   "metadata": {},
   "source": [
    "This dataset originally contains data on around 25000 French \"communes\" (the smallest administrative division in France). The 133 variables are population, male proportion, ages proportions, whether the area is industrial or not, how many pharmacies there are... This data comes from an INSEE study from 2014. The y vector we attempt to predict, \"votedif\", is how much the share of vote for the main French green party, EELV, has evolved between the European elections of 2014 and those of 2019. We also have a \"treatdum\" vector, which is 1 if a wind turbine was installed between 2014 and 2019, and 0 otherwise."
   ]
  },
  {
   "cell_type": "markdown",
   "metadata": {},
   "source": [
    "First, we will train and test the model on the treated communes, those who received a wind turbine. Then, if it works, we will apply the model to untreated communes in order to see which ones are the most receptive to a wind turbine installation."
   ]
  },
  {
   "cell_type": "code",
   "execution_count": 68,
   "metadata": {},
   "outputs": [],
   "source": [
    "X_treated = X[X['treatdum']==1]\n",
    "X_untreated = X[X['treatdum']==0]\n",
    "\n",
    "y_treated = y[X['treatdum']==1]\n",
    "y_untreated = y[X['treatdum']==0]"
   ]
  },
  {
   "cell_type": "code",
   "execution_count": 69,
   "metadata": {},
   "outputs": [],
   "source": [
    "X_train_wt, X_test_wt, y_train_wt, y_test_wt = train_test_split(X_treated, y_treated, test_size=0.1, random_state=42)"
   ]
  },
  {
   "cell_type": "code",
   "execution_count": 70,
   "metadata": {},
   "outputs": [],
   "source": [
    "scaler = StandardScaler()\n",
    "X_train_wts = scaler.fit_transform(X_train_wt)\n",
    "X_test_wts = scaler.transform(X_test_wt)"
   ]
  },
  {
   "cell_type": "code",
   "execution_count": 71,
   "metadata": {},
   "outputs": [
    {
     "data": {
      "text/plain": [
       "(383, 111)"
      ]
     },
     "execution_count": 71,
     "metadata": {},
     "output_type": "execute_result"
    }
   ],
   "source": [
    "X_train_wts.shape"
   ]
  },
  {
   "cell_type": "markdown",
   "metadata": {},
   "source": [
    "Issue: very small number of observations (only around 350 communes received a wind turbine between 2014 and 2019)"
   ]
  },
  {
   "cell_type": "code",
   "execution_count": 72,
   "metadata": {},
   "outputs": [
    {
     "name": "stdout",
     "output_type": "stream",
     "text": [
      "Epoch 1/10\n",
      "35/35 [==============================] - 0s 3ms/step - loss: 3.7594 - val_loss: 3.5008\n",
      "Epoch 2/10\n",
      "35/35 [==============================] - 0s 1ms/step - loss: 3.1169 - val_loss: 2.8796\n",
      "Epoch 3/10\n",
      "35/35 [==============================] - 0s 1ms/step - loss: 2.9324 - val_loss: 2.7480\n",
      "Epoch 4/10\n",
      "35/35 [==============================] - 0s 1ms/step - loss: 2.8237 - val_loss: 2.7367\n",
      "Epoch 5/10\n",
      "35/35 [==============================] - 0s 1ms/step - loss: 2.7660 - val_loss: 2.7320\n",
      "Epoch 6/10\n",
      "35/35 [==============================] - 0s 1ms/step - loss: 2.7248 - val_loss: 2.6118\n",
      "Epoch 7/10\n",
      "35/35 [==============================] - 0s 1ms/step - loss: 2.6863 - val_loss: 2.6634\n",
      "Epoch 8/10\n",
      "35/35 [==============================] - 0s 1ms/step - loss: 2.6499 - val_loss: 2.6258\n",
      "Epoch 9/10\n",
      "35/35 [==============================] - 0s 1ms/step - loss: 2.6256 - val_loss: 2.6632\n",
      "Epoch 10/10\n",
      "35/35 [==============================] - 0s 1ms/step - loss: 2.5993 - val_loss: 2.6163\n"
     ]
    }
   ],
   "source": [
    "model_wt = tf.keras.Sequential()\n",
    "model_wt.add(tf.keras.layers.Dense(30, activation='relu'))\n",
    "model_wt.add(tf.keras.layers.Dense(30, activation='relu'))\n",
    "model_wt.add(tf.keras.layers.Dense(30, activation='relu'))\n",
    "model_wt.add(tf.keras.layers.Dense(1))\n",
    "model_wt.compile(optimizer='adam', loss='mae')\n",
    "\n",
    "history_wt = model_wt.fit(X_train_wts, y_train_wt, batch_size=10, epochs=10, validation_split=0.1)"
   ]
  },
  {
   "cell_type": "code",
   "execution_count": 73,
   "metadata": {},
   "outputs": [
    {
     "data": {
      "image/png": "[encoded data removed]",
      "text/plain": [
       "<Figure size 576x360 with 1 Axes>"
      ]
     },
     "metadata": {
      "needs_background": "light"
     },
     "output_type": "display_data"
    }
   ],
   "source": [
    "pd.DataFrame(history_wt.history).plot(figsize=(8, 5))\n",
    "plt.grid(True)\n",
    "plt.show()"
   ]
  },
  {
   "cell_type": "code",
   "execution_count": 74,
   "metadata": {},
   "outputs": [],
   "source": [
    "y_wt_predict = model_wt.predict(X_test_wts)"
   ]
  },
  {
   "cell_type": "code",
   "execution_count": 75,
   "metadata": {},
   "outputs": [
    {
     "data": {
      "text/plain": [
       "0.21472393133791423"
      ]
     },
     "execution_count": 75,
     "metadata": {},
     "output_type": "execute_result"
    }
   ],
   "source": [
    "r2_score(y_test_wt, y_wt_predict)"
   ]
  },
  {
   "cell_type": "markdown",
   "metadata": {},
   "source": [
    "The $R^2$ is not great, but let's go along with it."
   ]
  },
  {
   "cell_type": "code",
   "execution_count": 76,
   "metadata": {},
   "outputs": [],
   "source": [
    "votedif_untreated_predict = model_wt.predict(scaler.transform(X_untreated))"
   ]
  },
  {
   "cell_type": "code",
   "execution_count": 77,
   "metadata": {},
   "outputs": [
    {
     "data": {
      "text/plain": [
       "2.349432"
      ]
     },
     "execution_count": 77,
     "metadata": {},
     "output_type": "execute_result"
    }
   ],
   "source": [
    "np.mean(votedif_untreated_predict)"
   ]
  },
  {
   "cell_type": "code",
   "execution_count": 78,
   "metadata": {},
   "outputs": [
    {
     "data": {
      "text/plain": [
       "3.2418431435267903"
      ]
     },
     "execution_count": 78,
     "metadata": {},
     "output_type": "execute_result"
    }
   ],
   "source": [
    "np.mean(y_untreated)"
   ]
  },
  {
   "cell_type": "markdown",
   "metadata": {},
   "source": [
    "First, we see that the model expects the vote share to drop, on average, if we install wind turbines on currently untreated communes."
   ]
  },
  {
   "cell_type": "code",
   "execution_count": 79,
   "metadata": {},
   "outputs": [],
   "source": [
    "data_for_choice = np.concatenate((votedif_untreated_predict, X_untreated), axis=1)"
   ]
  },
  {
   "cell_type": "code",
   "execution_count": 80,
   "metadata": {},
   "outputs": [
    {
     "data": {
      "text/html": [
       "<div>\n",
       "<style scoped>\n",
       "    .dataframe tbody tr th:only-of-type {\n",
       "        vertical-align: middle;\n",
       "    }\n",
       "\n",
       "    .dataframe tbody tr th {\n",
       "        vertical-align: top;\n",
       "    }\n",
       "\n",
       "    .dataframe thead th {\n",
       "        text-align: right;\n",
       "    }\n",
       "</style>\n",
       "<table border=\"1\" class=\"dataframe\">\n",
       "  <thead>\n",
       "    <tr style=\"text-align: right;\">\n",
       "      <th></th>\n",
       "      <th>0</th>\n",
       "      <th>1</th>\n",
       "      <th>2</th>\n",
       "      <th>3</th>\n",
       "      <th>4</th>\n",
       "      <th>5</th>\n",
       "      <th>6</th>\n",
       "      <th>7</th>\n",
       "      <th>8</th>\n",
       "      <th>9</th>\n",
       "      <th>...</th>\n",
       "      <th>102</th>\n",
       "      <th>103</th>\n",
       "      <th>104</th>\n",
       "      <th>105</th>\n",
       "      <th>106</th>\n",
       "      <th>107</th>\n",
       "      <th>108</th>\n",
       "      <th>109</th>\n",
       "      <th>110</th>\n",
       "      <th>111</th>\n",
       "    </tr>\n",
       "  </thead>\n",
       "  <tbody>\n",
       "    <tr>\n",
       "      <th>0</th>\n",
       "      <td>4.422117</td>\n",
       "      <td>1.0</td>\n",
       "      <td>1.0</td>\n",
       "      <td>1001.0</td>\n",
       "      <td>46.153427</td>\n",
       "      <td>4.926114</td>\n",
       "      <td>0.0</td>\n",
       "      <td>57.0</td>\n",
       "      <td>23.0</td>\n",
       "      <td>114.0</td>\n",
       "      <td>...</td>\n",
       "      <td>0.0</td>\n",
       "      <td>0.0</td>\n",
       "      <td>1.0</td>\n",
       "      <td>1.0</td>\n",
       "      <td>2130.1389</td>\n",
       "      <td>98313.211</td>\n",
       "      <td>4537491.5</td>\n",
       "      <td>24.266596</td>\n",
       "      <td>119.54001</td>\n",
       "      <td>588.86761</td>\n",
       "    </tr>\n",
       "    <tr>\n",
       "      <th>1</th>\n",
       "      <td>4.301549</td>\n",
       "      <td>1.0</td>\n",
       "      <td>2.0</td>\n",
       "      <td>1002.0</td>\n",
       "      <td>46.009190</td>\n",
       "      <td>5.428017</td>\n",
       "      <td>0.0</td>\n",
       "      <td>45.0</td>\n",
       "      <td>4.0</td>\n",
       "      <td>143.0</td>\n",
       "      <td>...</td>\n",
       "      <td>2.0</td>\n",
       "      <td>0.0</td>\n",
       "      <td>1.0</td>\n",
       "      <td>1.0</td>\n",
       "      <td>2116.8455</td>\n",
       "      <td>97394.344</td>\n",
       "      <td>4481035.0</td>\n",
       "      <td>29.463369</td>\n",
       "      <td>159.92767</td>\n",
       "      <td>868.09015</td>\n",
       "    </tr>\n",
       "    <tr>\n",
       "      <th>2</th>\n",
       "      <td>2.712530</td>\n",
       "      <td>1.0</td>\n",
       "      <td>4.0</td>\n",
       "      <td>1004.0</td>\n",
       "      <td>45.960846</td>\n",
       "      <td>5.372926</td>\n",
       "      <td>0.0</td>\n",
       "      <td>634.0</td>\n",
       "      <td>828.0</td>\n",
       "      <td>366.0</td>\n",
       "      <td>...</td>\n",
       "      <td>2.0</td>\n",
       "      <td>0.0</td>\n",
       "      <td>0.0</td>\n",
       "      <td>2.0</td>\n",
       "      <td>2112.3994</td>\n",
       "      <td>97087.664</td>\n",
       "      <td>4462231.0</td>\n",
       "      <td>28.868332</td>\n",
       "      <td>155.10741</td>\n",
       "      <td>833.38055</td>\n",
       "    </tr>\n",
       "    <tr>\n",
       "      <th>3</th>\n",
       "      <td>1.692443</td>\n",
       "      <td>1.0</td>\n",
       "      <td>5.0</td>\n",
       "      <td>1005.0</td>\n",
       "      <td>45.996181</td>\n",
       "      <td>4.912273</td>\n",
       "      <td>0.0</td>\n",
       "      <td>113.0</td>\n",
       "      <td>62.0</td>\n",
       "      <td>132.0</td>\n",
       "      <td>...</td>\n",
       "      <td>2.0</td>\n",
       "      <td>0.0</td>\n",
       "      <td>2.0</td>\n",
       "      <td>1.0</td>\n",
       "      <td>2115.6487</td>\n",
       "      <td>97311.766</td>\n",
       "      <td>4475969.5</td>\n",
       "      <td>24.130421</td>\n",
       "      <td>118.53520</td>\n",
       "      <td>582.27722</td>\n",
       "    </tr>\n",
       "    <tr>\n",
       "      <th>4</th>\n",
       "      <td>3.574729</td>\n",
       "      <td>1.0</td>\n",
       "      <td>6.0</td>\n",
       "      <td>1006.0</td>\n",
       "      <td>45.749500</td>\n",
       "      <td>5.594320</td>\n",
       "      <td>0.0</td>\n",
       "      <td>42.0</td>\n",
       "      <td>1.0</td>\n",
       "      <td>121.0</td>\n",
       "      <td>...</td>\n",
       "      <td>2.0</td>\n",
       "      <td>0.0</td>\n",
       "      <td>1.0</td>\n",
       "      <td>1.0</td>\n",
       "      <td>2093.0168</td>\n",
       "      <td>95754.469</td>\n",
       "      <td>4380719.0</td>\n",
       "      <td>31.296419</td>\n",
       "      <td>175.08220</td>\n",
       "      <td>979.46588</td>\n",
       "    </tr>\n",
       "  </tbody>\n",
       "</table>\n",
       "<p>5 rows × 112 columns</p>\n",
       "</div>"
      ],
      "text/plain": [
       "        0    1    2       3          4         5    6      7      8      9    \\\n",
       "0  4.422117  1.0  1.0  1001.0  46.153427  4.926114  0.0   57.0   23.0  114.0   \n",
       "1  4.301549  1.0  2.0  1002.0  46.009190  5.428017  0.0   45.0    4.0  143.0   \n",
       "2  2.712530  1.0  4.0  1004.0  45.960846  5.372926  0.0  634.0  828.0  366.0   \n",
       "3  1.692443  1.0  5.0  1005.0  45.996181  4.912273  0.0  113.0   62.0  132.0   \n",
       "4  3.574729  1.0  6.0  1006.0  45.749500  5.594320  0.0   42.0    1.0  121.0   \n",
       "\n",
       "   ...  102  103  104  105        106        107        108        109  \\\n",
       "0  ...  0.0  0.0  1.0  1.0  2130.1389  98313.211  4537491.5  24.266596   \n",
       "1  ...  2.0  0.0  1.0  1.0  2116.8455  97394.344  4481035.0  29.463369   \n",
       "2  ...  2.0  0.0  0.0  2.0  2112.3994  97087.664  4462231.0  28.868332   \n",
       "3  ...  2.0  0.0  2.0  1.0  2115.6487  97311.766  4475969.5  24.130421   \n",
       "4  ...  2.0  0.0  1.0  1.0  2093.0168  95754.469  4380719.0  31.296419   \n",
       "\n",
       "         110        111  \n",
       "0  119.54001  588.86761  \n",
       "1  159.92767  868.09015  \n",
       "2  155.10741  833.38055  \n",
       "3  118.53520  582.27722  \n",
       "4  175.08220  979.46588  \n",
       "\n",
       "[5 rows x 112 columns]"
      ]
     },
     "execution_count": 80,
     "metadata": {},
     "output_type": "execute_result"
    }
   ],
   "source": [
    "data_choice_df = pd.DataFrame(data_for_choice)\n",
    "data_choice_df.head()"
   ]
  },
  {
   "cell_type": "code",
   "execution_count": 81,
   "metadata": {},
   "outputs": [
    {
     "data": {
      "text/html": [
       "<div>\n",
       "<style scoped>\n",
       "    .dataframe tbody tr th:only-of-type {\n",
       "        vertical-align: middle;\n",
       "    }\n",
       "\n",
       "    .dataframe tbody tr th {\n",
       "        vertical-align: top;\n",
       "    }\n",
       "\n",
       "    .dataframe thead th {\n",
       "        text-align: right;\n",
       "    }\n",
       "</style>\n",
       "<table border=\"1\" class=\"dataframe\">\n",
       "  <thead>\n",
       "    <tr style=\"text-align: right;\">\n",
       "      <th></th>\n",
       "      <th>0</th>\n",
       "    </tr>\n",
       "  </thead>\n",
       "  <tbody>\n",
       "    <tr>\n",
       "      <th>0</th>\n",
       "      <td>66008</td>\n",
       "    </tr>\n",
       "    <tr>\n",
       "      <th>1</th>\n",
       "      <td>85234</td>\n",
       "    </tr>\n",
       "    <tr>\n",
       "      <th>2</th>\n",
       "      <td>34332</td>\n",
       "    </tr>\n",
       "    <tr>\n",
       "      <th>3</th>\n",
       "      <td>85226</td>\n",
       "    </tr>\n",
       "    <tr>\n",
       "      <th>4</th>\n",
       "      <td>17225</td>\n",
       "    </tr>\n",
       "    <tr>\n",
       "      <th>...</th>\n",
       "      <td>...</td>\n",
       "    </tr>\n",
       "    <tr>\n",
       "      <th>34013</th>\n",
       "      <td>81282</td>\n",
       "    </tr>\n",
       "    <tr>\n",
       "      <th>34014</th>\n",
       "      <td>11388</td>\n",
       "    </tr>\n",
       "    <tr>\n",
       "      <th>34015</th>\n",
       "      <td>11250</td>\n",
       "    </tr>\n",
       "    <tr>\n",
       "      <th>34016</th>\n",
       "      <td>75056</td>\n",
       "    </tr>\n",
       "    <tr>\n",
       "      <th>34017</th>\n",
       "      <td>6088</td>\n",
       "    </tr>\n",
       "  </tbody>\n",
       "</table>\n",
       "<p>34018 rows × 1 columns</p>\n",
       "</div>"
      ],
      "text/plain": [
       "           0\n",
       "0      66008\n",
       "1      85234\n",
       "2      34332\n",
       "3      85226\n",
       "4      17225\n",
       "...      ...\n",
       "34013  81282\n",
       "34014  11388\n",
       "34015  11250\n",
       "34016  75056\n",
       "34017   6088\n",
       "\n",
       "[34018 rows x 1 columns]"
      ]
     },
     "execution_count": 81,
     "metadata": {},
     "output_type": "execute_result"
    }
   ],
   "source": [
    "pd.DataFrame((data_choice_df.sort_values(0, ascending=False).iloc[:, 3].to_numpy().astype(int)).T)"
   ]
  },
  {
   "cell_type": "markdown",
   "metadata": {},
   "source": [
    "There is an obvious need to check for wind in these areas, but the communes listed at the top are good candidates for installing new wind turbine (at least, if we trust our model)."
   ]
  },
  {
   "cell_type": "markdown",
   "metadata": {},
   "source": [
    "### To go further\n",
    "\n",
    "Scikit-Learn, TensorFlow, Keras all offer much more possibilities than what was very briefly presented here. Ensemble methods, unsupervised learning, deep reinforcement learning, can all be done with the tools we introduced in this notebook. The documentation of Scikit-Learn and Keras are very good, and Google has done tutorials on how to use TensorFlow."
   ]
  }
 ],
 "metadata": {
  "kernelspec": {
   "display_name": "Python 3 (ipykernel)",
   "language": "python",
   "name": "python3"
  },
  "language_info": {
   "codemirror_mode": {
    "name": "ipython",
    "version": 3
   },
   "file_extension": ".py",
   "mimetype": "text/x-python",
   "name": "python",
   "nbconvert_exporter": "python",
   "pygments_lexer": "ipython3",
   "version": "3.7.9"
  }
 },
 "nbformat": 4,
 "nbformat_minor": 2
}
